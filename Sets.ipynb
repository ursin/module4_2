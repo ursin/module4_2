{
 "cells": [
  {
   "cell_type": "code",
   "execution_count": 3,
   "metadata": {},
   "outputs": [],
   "source": [
    "# Library imports\n",
    "import matplotlib.pyplot as plt\n",
    "# https://github.com/konstantint/matplotlib-venn\n",
    "from matplotlib_venn import *"
   ]
  },
  {
   "cell_type": "markdown",
   "metadata": {},
   "source": [
    "# Mengen (Sets) in Python\n",
    "In Python ist der Datentyp **Set** eine weitere Collection und hat die folgenden Eigenschaften:\n",
    "\n",
    "* **Set**s sind eine Sammlung von ungeordneten Elementen\n",
    "* Die Elemente eines **Set**s sind einmalig (unique). Ein Element kann in einem Set nicht mehrmals vorkommen\n",
    "* Ein **Set** kann verändert werden (mutable), aber die Elemente müssen von einem unveränderbaren Datentyp sein (String, Int, Float, Tuple)\n"
   ]
  },
  {
   "cell_type": "markdown",
   "metadata": {},
   "source": [
    "# Sets erstellen\n",
    "**Set**s können auf verschiedene Arten erstellt werden."
   ]
  },
  {
   "cell_type": "code",
   "execution_count": null,
   "metadata": {},
   "outputs": [],
   "source": [
    "set_x = set([\"A\", \"B\", \"C\"]) # Iterierbares Objekt (Liste, Tuple)\n",
    "\n",
    "set_y = {} # Geschweifte Klammern\n",
    "\n"
   ]
  },
  {
   "cell_type": "code",
   "execution_count": null,
   "metadata": {},
   "outputs": [],
   "source": [
    "set_z = {1,1,1,1} # Was passiert?"
   ]
  },
  {
   "cell_type": "code",
   "execution_count": 44,
   "metadata": {},
   "outputs": [
    {
     "data": {
      "text/plain": [
       "{' ', 'a', 'd', 'e', 'g', 'i', 'l', 'n', 'r', 's', 't', 'x'}"
      ]
     },
     "execution_count": 44,
     "metadata": {},
     "output_type": "execute_result"
    }
   ],
   "source": [
    "chars=\"\"\n",
    "\n",
    "all_chars =list(chars)\n",
    "\n",
    "unique_chars = set(chars) # Strings sind auch iterierbar\n",
    "unique_chars"
   ]
  },
  {
   "cell_type": "markdown",
   "metadata": {},
   "source": [
    "Zusammenfassung:\n",
    "\n",
    "* Argument für `set()` ist ein iterierbares Objekt. Es wird eine Liste von einmaligen Elementen erstellt, die im **Set** landen.\n",
    "* mit dem `{}`-Operator landen die Objekte direkt in der Liste.\n"
   ]
  },
  {
   "cell_type": "code",
   "execution_count": 1,
   "metadata": {},
   "outputs": [
    {
     "data": {
      "text/plain": [
       "False"
      ]
     },
     "execution_count": 1,
     "metadata": {},
     "output_type": "execute_result"
    }
   ],
   "source": [
    "{\"text\"} == set(\"text\")"
   ]
  },
  {
   "cell_type": "markdown",
   "metadata": {},
   "source": [
    "**Set**s können auch leer sein. `{}` sind aber schon für Dicts reserviert. Somit können leere Sets nur mit `set()` erstellt werden."
   ]
  },
  {
   "cell_type": "code",
   "execution_count": 2,
   "metadata": {},
   "outputs": [
    {
     "name": "stdout",
     "output_type": "stream",
     "text": [
      "<class 'set'>\n",
      "<class 'dict'>\n"
     ]
    }
   ],
   "source": [
    "# leeres Set\n",
    "empty_set = set() \n",
    "\n",
    "print(type(empty_set))\n",
    "\n",
    "empty_set2 = {} # Funktioniert das ?"
   ]
  },
  {
   "cell_type": "markdown",
   "metadata": {},
   "source": [
    "Die Elemente eines Sets können unterschiedliche Datentypen sein:"
   ]
  },
  {
   "cell_type": "code",
   "execution_count": 4,
   "metadata": {},
   "outputs": [
    {
     "data": {
      "text/plain": [
       "{(1, 3), 1, 2, 3.0, 'text'}"
      ]
     },
     "execution_count": 4,
     "metadata": {},
     "output_type": "execute_result"
    }
   ],
   "source": [
    "s = {\"text\", 1, 2, 3.0, (1, 3)}\n",
    "s"
   ]
  },
  {
   "cell_type": "markdown",
   "metadata": {},
   "source": [
    "Indexierung von Sets ist nicht möglich:"
   ]
  },
  {
   "cell_type": "code",
   "execution_count": 5,
   "metadata": {},
   "outputs": [
    {
     "ename": "TypeError",
     "evalue": "'set' object is not subscriptable",
     "output_type": "error",
     "traceback": [
      "\u001b[0;31m---------------------------------------------------------------------------\u001b[0m",
      "\u001b[0;31mTypeError\u001b[0m                                 Traceback (most recent call last)",
      "\u001b[0;32m<ipython-input-5-cd2558f3257c>\u001b[0m in \u001b[0;36m<module>\u001b[0;34m\u001b[0m\n\u001b[1;32m      1\u001b[0m \u001b[0mset_x\u001b[0m \u001b[0;34m=\u001b[0m \u001b[0;34m{\u001b[0m\u001b[0;34m\"A\"\u001b[0m\u001b[0;34m,\u001b[0m \u001b[0;34m\"B\"\u001b[0m\u001b[0;34m,\u001b[0m \u001b[0;34m\"C\"\u001b[0m\u001b[0;34m}\u001b[0m\u001b[0;34m\u001b[0m\u001b[0;34m\u001b[0m\u001b[0m\n\u001b[0;32m----> 2\u001b[0;31m \u001b[0mset_x\u001b[0m\u001b[0;34m[\u001b[0m\u001b[0;36m0\u001b[0m\u001b[0;34m]\u001b[0m\u001b[0;34m\u001b[0m\u001b[0;34m\u001b[0m\u001b[0m\n\u001b[0m",
      "\u001b[0;31mTypeError\u001b[0m: 'set' object is not subscriptable"
     ]
    }
   ],
   "source": [
    "set_x = {\"A\", \"B\", \"C\"}\n",
    "set_x[0]"
   ]
  },
  {
   "cell_type": "markdown",
   "metadata": {},
   "source": [
    "# Set Grösse und Mitgliedschaft\n",
    "\n",
    "Die `len()`-Funktion gibt die Anzahl Elemente eines Sets zurück.\n",
    "\n",
    "Mit den `in`- und `not in`-Operator kann geprüft werden, ob ein Objekt in einem Set ist oder nicht:"
   ]
  },
  {
   "cell_type": "code",
   "execution_count": 6,
   "metadata": {},
   "outputs": [
    {
     "data": {
      "text/plain": [
       "True"
      ]
     },
     "execution_count": 6,
     "metadata": {},
     "output_type": "execute_result"
    }
   ],
   "source": [
    "set_x = {\"A\", \"B\", \"C\"}\n",
    "\"A\" in set_x"
   ]
  },
  {
   "cell_type": "code",
   "execution_count": 7,
   "metadata": {},
   "outputs": [
    {
     "data": {
      "text/plain": [
       "False"
      ]
     },
     "execution_count": 7,
     "metadata": {},
     "output_type": "execute_result"
    }
   ],
   "source": [
    "2020 in set_x"
   ]
  },
  {
   "cell_type": "code",
   "execution_count": 8,
   "metadata": {},
   "outputs": [
    {
     "data": {
      "text/plain": [
       "True"
      ]
     },
     "execution_count": 8,
     "metadata": {},
     "output_type": "execute_result"
    }
   ],
   "source": [
    "2020 not in set_x"
   ]
  },
  {
   "cell_type": "code",
   "execution_count": null,
   "metadata": {},
   "outputs": [],
   "source": [
    "# Anzahl Elemente\n",
    "len(empty_set)\n",
    "len(set_x)"
   ]
  },
  {
   "cell_type": "markdown",
   "metadata": {},
   "source": [
    "# Verändern von Sets\n",
    "Auch wenn die Elemente unveränderbar sein müssen, so ist es möglich den Inhalt eines **Set**s mit `add()` anzupassen."
   ]
  },
  {
   "cell_type": "code",
   "execution_count": 20,
   "metadata": {},
   "outputs": [
    {
     "data": {
      "text/plain": [
       "{'A', 'B', 'C', 'X'}"
      ]
     },
     "execution_count": 20,
     "metadata": {},
     "output_type": "execute_result"
    }
   ],
   "source": [
    "set_x = {\"A\", \"B\", \"C\"}\n",
    "set_x.add(\"X\")\n",
    "set_x"
   ]
  },
  {
   "cell_type": "code",
   "execution_count": 21,
   "metadata": {},
   "outputs": [
    {
     "data": {
      "text/plain": [
       "{'A', 'B', 'C', 'X', 'Y'}"
      ]
     },
     "execution_count": 21,
     "metadata": {},
     "output_type": "execute_result"
    }
   ],
   "source": [
    "set_x.update(\"Y\")\n",
    "set_x"
   ]
  },
  {
   "cell_type": "code",
   "execution_count": 22,
   "metadata": {},
   "outputs": [
    {
     "data": {
      "text/plain": [
       "{'B', 'C', 'X', 'Y'}"
      ]
     },
     "execution_count": 22,
     "metadata": {},
     "output_type": "execute_result"
    }
   ],
   "source": [
    "set_x.remove(\"A\")\n",
    "set_x"
   ]
  },
  {
   "cell_type": "code",
   "execution_count": 23,
   "metadata": {},
   "outputs": [
    {
     "ename": "KeyError",
     "evalue": "'A'",
     "output_type": "error",
     "traceback": [
      "\u001b[0;31m---------------------------------------------------------------------------\u001b[0m",
      "\u001b[0;31mKeyError\u001b[0m                                  Traceback (most recent call last)",
      "\u001b[0;32m<ipython-input-23-959a78b73e4b>\u001b[0m in \u001b[0;36m<module>\u001b[0;34m\u001b[0m\n\u001b[0;32m----> 1\u001b[0;31m \u001b[0mset_x\u001b[0m\u001b[0;34m.\u001b[0m\u001b[0mremove\u001b[0m\u001b[0;34m(\u001b[0m\u001b[0;34m\"A\"\u001b[0m\u001b[0;34m)\u001b[0m\u001b[0;34m\u001b[0m\u001b[0;34m\u001b[0m\u001b[0m\n\u001b[0m\u001b[1;32m      2\u001b[0m \u001b[0mset_x\u001b[0m\u001b[0;34m\u001b[0m\u001b[0;34m\u001b[0m\u001b[0m\n",
      "\u001b[0;31mKeyError\u001b[0m: 'A'"
     ]
    }
   ],
   "source": [
    "set_x.remove(\"A\") # Error, da \"A\" nicht in mehr in Set\n",
    "set_x"
   ]
  },
  {
   "cell_type": "code",
   "execution_count": 24,
   "metadata": {},
   "outputs": [
    {
     "data": {
      "text/plain": [
       "{'B', 'C', 'X', 'Y'}"
      ]
     },
     "execution_count": 24,
     "metadata": {},
     "output_type": "execute_result"
    }
   ],
   "source": [
    "set_x.discard(\"A\") # Kein Error, obwohl \"A\" nicht in mehr in Set\n",
    "set_x"
   ]
  },
  {
   "cell_type": "markdown",
   "metadata": {},
   "source": [
    "# Frozensets\n",
    "\n",
    "Frozensets sind eine spezielle Art von **Set**s, im Gegensatz zu den normalen **Set**s können sie nach der Erstellung nicht verändert werden. Sie sind also unveränderlich (immutable):"
   ]
  },
  {
   "cell_type": "code",
   "execution_count": 12,
   "metadata": {},
   "outputs": [
    {
     "ename": "AttributeError",
     "evalue": "'frozenset' object has no attribute 'add'",
     "output_type": "error",
     "traceback": [
      "\u001b[0;31m---------------------------------------------------------------------------\u001b[0m",
      "\u001b[0;31mAttributeError\u001b[0m                            Traceback (most recent call last)",
      "\u001b[0;32m<ipython-input-12-7205361350de>\u001b[0m in \u001b[0;36m<module>\u001b[0;34m\u001b[0m\n\u001b[1;32m      1\u001b[0m \u001b[0mset_x\u001b[0m \u001b[0;34m=\u001b[0m \u001b[0mfrozenset\u001b[0m\u001b[0;34m(\u001b[0m\u001b[0;34m[\u001b[0m\u001b[0;34m\"A\"\u001b[0m\u001b[0;34m,\u001b[0m \u001b[0;34m\"B\"\u001b[0m\u001b[0;34m,\u001b[0m \u001b[0;34m\"C\"\u001b[0m\u001b[0;34m]\u001b[0m\u001b[0;34m)\u001b[0m\u001b[0;34m\u001b[0m\u001b[0;34m\u001b[0m\u001b[0m\n\u001b[0;32m----> 2\u001b[0;31m \u001b[0mset_x\u001b[0m\u001b[0;34m.\u001b[0m\u001b[0madd\u001b[0m\u001b[0;34m(\u001b[0m\u001b[0;34m\"X\"\u001b[0m\u001b[0;34m)\u001b[0m\u001b[0;34m\u001b[0m\u001b[0;34m\u001b[0m\u001b[0m\n\u001b[0m\u001b[1;32m      3\u001b[0m \u001b[0mset_x\u001b[0m\u001b[0;34m\u001b[0m\u001b[0;34m\u001b[0m\u001b[0m\n",
      "\u001b[0;31mAttributeError\u001b[0m: 'frozenset' object has no attribute 'add'"
     ]
    }
   ],
   "source": [
    "set_x = frozenset([\"A\", \"B\", \"C\"])\n",
    "set_x.add(\"X\")\n",
    "set_x"
   ]
  },
  {
   "cell_type": "markdown",
   "metadata": {},
   "source": [
    "# Operationen mit Sets\n",
    "Viele der Operationen die bei den anderen Collection Datentypen verwendet werden können, sind bei **Set**s nicht möglich.\n",
    "\n",
    "Indexierung und Sliceing werden von **Set**s nicht unterstützt.\n",
    "\n",
    "Dafür gibt es diverse andere Operationen für **Set**s, die vor allem Mengen-Operationen nachbilden. "
   ]
  },
  {
   "cell_type": "markdown",
   "metadata": {},
   "source": [
    "## Operator vs. Methods\n",
    "Die meisten **Set**-Operationen können auf zwei unterschiedliche Arten ausgeführt werden: Operator oder Methode."
   ]
  },
  {
   "cell_type": "markdown",
   "metadata": {},
   "source": [
    "## Vereinigung (Union)\n",
    "\n",
    "Gegeben zwei Mengen *A* und *B*, die Vereinigung ergibt alle Elemente die in *A* oder *B* enthalten sind zurück.\n",
    "\n",
    "Mit der Methode `set1.union(set2)` oder dem `|`-Operator:"
   ]
  },
  {
   "cell_type": "code",
   "execution_count": 13,
   "metadata": {},
   "outputs": [
    {
     "data": {
      "text/plain": [
       "{'A', 'B', 'C', 'D'}"
      ]
     },
     "execution_count": 13,
     "metadata": {},
     "output_type": "execute_result"
    }
   ],
   "source": [
    "x = {\"A\", \"B\", \"C\"}\n",
    "y = {\"A\", \"D\"}\n",
    "x.union(y)"
   ]
  },
  {
   "cell_type": "code",
   "execution_count": 16,
   "metadata": {},
   "outputs": [
    {
     "data": {
      "text/plain": [
       "{'A', 'B', 'C', 'D'}"
      ]
     },
     "execution_count": 16,
     "metadata": {},
     "output_type": "execute_result"
    }
   ],
   "source": [
    "x | y"
   ]
  },
  {
   "cell_type": "markdown",
   "metadata": {},
   "source": [
    "Ein winziger Unterschied zwischen den beiden Varianten:\n",
    "\n",
    "Wird der `|`-Operator verwendet, müssen die beiden Operanden Sets sein. Mit `.union()` kann auch ein beliebiges Iterable mitgegeben werden.  "
   ]
  },
  {
   "cell_type": "code",
   "execution_count": null,
   "metadata": {},
   "outputs": [],
   "source": [
    "x | (\"X\", \"Y\", \"Z\")"
   ]
  },
  {
   "cell_type": "code",
   "execution_count": 1,
   "metadata": {},
   "outputs": [
    {
     "ename": "NameError",
     "evalue": "name 'x' is not defined",
     "output_type": "error",
     "traceback": [
      "\u001b[0;31m---------------------------------------------------------------------------\u001b[0m",
      "\u001b[0;31mNameError\u001b[0m                                 Traceback (most recent call last)",
      "\u001b[0;32m<ipython-input-1-3843cd42f2a3>\u001b[0m in \u001b[0;36m<module>\u001b[0;34m\u001b[0m\n\u001b[0;32m----> 1\u001b[0;31m \u001b[0mx\u001b[0m\u001b[0;34m.\u001b[0m\u001b[0munion\u001b[0m\u001b[0;34m(\u001b[0m\u001b[0;34m\"XYZ\"\u001b[0m\u001b[0;34m)\u001b[0m\u001b[0;34m\u001b[0m\u001b[0;34m\u001b[0m\u001b[0m\n\u001b[0m",
      "\u001b[0;31mNameError\u001b[0m: name 'x' is not defined"
     ]
    }
   ],
   "source": [
    "x.union(\"XYZ\")"
   ]
  },
  {
   "cell_type": "code",
   "execution_count": 3,
   "metadata": {},
   "outputs": [
    {
     "data": {
      "text/plain": [
       "{1, 2, 3, 4, 5, 6, 7}"
      ]
     },
     "execution_count": 3,
     "metadata": {},
     "output_type": "execute_result"
    }
   ],
   "source": [
    "# Mehrere Sets\n",
    "set_a = {1, 2, 3, 4}\n",
    "set_b = {2, 3, 4, 5}\n",
    "set_c = {3, 4, 5, 6}\n",
    "set_d = {4, 5, 6, 7}\n",
    "\n",
    "set_a.union(set_b, set_c, set_d)\n",
    "set_a | set_b | set_c | set_d"
   ]
  },
  {
   "cell_type": "markdown",
   "metadata": {},
   "source": [
    "# Schnittmenge\n",
    "Die Schnittmenge kann mit `set_a.intersection(set_b [, set_c, ...])`  oder `set_a & set_b [& set_c ...]` berechnet werden.\n",
    "\n",
    "`set_a.intersection(set_b)` und `set_a & set_b` geben alle Elemente zurück, die sowohl in `set_a` als auch in `set_b` enthalten sind."
   ]
  },
  {
   "cell_type": "code",
   "execution_count": 4,
   "metadata": {},
   "outputs": [
    {
     "data": {
      "text/plain": [
       "{2, 3, 4}"
      ]
     },
     "execution_count": 4,
     "metadata": {},
     "output_type": "execute_result"
    }
   ],
   "source": [
    "set_a.intersection(set_b)"
   ]
  },
  {
   "cell_type": "code",
   "execution_count": 5,
   "metadata": {},
   "outputs": [
    {
     "data": {
      "text/plain": [
       "{2, 3, 4}"
      ]
     },
     "execution_count": 5,
     "metadata": {},
     "output_type": "execute_result"
    }
   ],
   "source": [
    "set_a & set_b"
   ]
  },
  {
   "cell_type": "code",
   "execution_count": 6,
   "metadata": {},
   "outputs": [
    {
     "data": {
      "text/plain": [
       "{4}"
      ]
     },
     "execution_count": 6,
     "metadata": {},
     "output_type": "execute_result"
    }
   ],
   "source": [
    "# Mehrere Sets\n",
    "set_a = {1, 2, 3, 4}\n",
    "set_b = {2, 3, 4, 5}\n",
    "set_c = {3, 4, 5, 6}\n",
    "set_d = {4, 5, 6, 7}\n",
    "\n",
    "set_a.intersection(set_b, set_c, set_d)\n",
    "set_a & set_b & set_c & set_d"
   ]
  },
  {
   "cell_type": "code",
   "execution_count": null,
   "metadata": {},
   "outputs": [],
   "source": [
    "# Differenz\n",
    "\n"
   ]
  },
  {
   "cell_type": "code",
   "execution_count": 8,
   "metadata": {},
   "outputs": [
    {
     "data": {
      "text/plain": [
       "{1}"
      ]
     },
     "execution_count": 8,
     "metadata": {},
     "output_type": "execute_result"
    }
   ],
   "source": [
    "set_a.difference(set_b)"
   ]
  },
  {
   "cell_type": "code",
   "execution_count": 9,
   "metadata": {},
   "outputs": [
    {
     "data": {
      "text/plain": [
       "{1}"
      ]
     },
     "execution_count": 9,
     "metadata": {},
     "output_type": "execute_result"
    }
   ],
   "source": [
    "set_a - set_b"
   ]
  },
  {
   "cell_type": "code",
   "execution_count": 10,
   "metadata": {},
   "outputs": [
    {
     "data": {
      "text/plain": [
       "{1}"
      ]
     },
     "execution_count": 10,
     "metadata": {},
     "output_type": "execute_result"
    }
   ],
   "source": [
    "# Mehrere Sets\n",
    "set_a = {1, 2, 3, 4}\n",
    "set_b = {2, 3, 4, 5}\n",
    "set_c = {3, 4, 5, 6}\n",
    "\n",
    "set_a.difference(set_b, set_c)\n",
    "set_a - set_b - set_c"
   ]
  },
  {
   "cell_type": "markdown",
   "metadata": {},
   "source": [
    "# Symmetrische Differenz\n",
    "Alle Elemente die in set_a oder set_b sind, aber nicht in beiden."
   ]
  },
  {
   "cell_type": "code",
   "execution_count": 11,
   "metadata": {},
   "outputs": [
    {
     "data": {
      "text/plain": [
       "{1, 5}"
      ]
     },
     "execution_count": 11,
     "metadata": {},
     "output_type": "execute_result"
    }
   ],
   "source": [
    "set_a.symmetric_difference(set_b)"
   ]
  },
  {
   "cell_type": "code",
   "execution_count": 12,
   "metadata": {},
   "outputs": [
    {
     "data": {
      "text/plain": [
       "{1, 5}"
      ]
     },
     "execution_count": 12,
     "metadata": {},
     "output_type": "execute_result"
    }
   ],
   "source": [
    "set_a ^ set_b"
   ]
  },
  {
   "cell_type": "markdown",
   "metadata": {},
   "source": [
    "# Disjunktion\n",
    "\n",
    "Prüft, ob set_a und set_b irgenwelche gemeinsame Elemente haben (False) oder nicht (True)."
   ]
  },
  {
   "cell_type": "code",
   "execution_count": 13,
   "metadata": {},
   "outputs": [
    {
     "data": {
      "text/plain": [
       "False"
      ]
     },
     "execution_count": 13,
     "metadata": {},
     "output_type": "execute_result"
    }
   ],
   "source": [
    "set_a.isdisjoint(set_b)"
   ]
  },
  {
   "cell_type": "markdown",
   "metadata": {},
   "source": [
    "# Subset"
   ]
  },
  {
   "cell_type": "code",
   "execution_count": 14,
   "metadata": {},
   "outputs": [
    {
     "data": {
      "text/plain": [
       "False"
      ]
     },
     "execution_count": 14,
     "metadata": {},
     "output_type": "execute_result"
    }
   ],
   "source": [
    "set_a.issubset(set_b)"
   ]
  },
  {
   "cell_type": "code",
   "execution_count": 15,
   "metadata": {},
   "outputs": [
    {
     "data": {
      "text/plain": [
       "False"
      ]
     },
     "execution_count": 15,
     "metadata": {},
     "output_type": "execute_result"
    }
   ],
   "source": [
    "set_a <= set_b"
   ]
  },
  {
   "cell_type": "code",
   "execution_count": 16,
   "metadata": {},
   "outputs": [
    {
     "data": {
      "text/plain": [
       "True"
      ]
     },
     "execution_count": 16,
     "metadata": {},
     "output_type": "execute_result"
    }
   ],
   "source": [
    "# ein set ist ein subset von sich selbst\n",
    "set_a <= set_a"
   ]
  },
  {
   "cell_type": "code",
   "execution_count": 18,
   "metadata": {},
   "outputs": [
    {
     "data": {
      "text/plain": [
       "False"
      ]
     },
     "execution_count": 18,
     "metadata": {},
     "output_type": "execute_result"
    }
   ],
   "source": [
    "set_a < set_a # proper subset: subset darf nicht identisch sein"
   ]
  },
  {
   "cell_type": "markdown",
   "metadata": {},
   "source": [
    "Superset"
   ]
  },
  {
   "cell_type": "markdown",
   "metadata": {},
   "source": [
    "## Übung\n",
    "Erstelle 2-3 Sets für unterschiedliche Kategorien von Sportarten."
   ]
  },
  {
   "cell_type": "code",
   "execution_count": null,
   "metadata": {},
   "outputs": [],
   "source": [
    "# TODO"
   ]
  },
  {
   "cell_type": "code",
   "execution_count": null,
   "metadata": {},
   "outputs": [],
   "source": []
  },
  {
   "cell_type": "markdown",
   "metadata": {},
   "source": [
    "## Venn Diagramme\n",
    "Sets können graphisch mit Venn Diagrammen dargestellt werden. Siehe [Mengendiagramm](https://de.wikipedia.org/wiki/Mengendiagramm).\n",
    "\n",
    "Die folgenden Funktionen können verwendet werden um Diagramme von zwei (`plot2`) und drei (`plot3`) Mengen anzuzeigen."
   ]
  },
  {
   "cell_type": "code",
   "execution_count": 40,
   "metadata": {},
   "outputs": [],
   "source": [
    "def plot2(set1, set2, labels=(\"Set 1\", \"Set 2\")):\n",
    "    set1 = {str(e) for e in set1}\n",
    "    set2 = {str(e) for e in set2}\n",
    "    \n",
    "    plt.figure(figsize=(10,10))\n",
    "    venn = venn2((set1, set2), labels)\n",
    "    c = venn2_circles(subsets=(set1, set2), linestyle='dashed')\n",
    "    \n",
    "    for text in venn.set_labels:\n",
    "        if text:\n",
    "            text.set_fontsize(24)\n",
    "        \n",
    "    for text in venn.subset_labels:\n",
    "        if text:\n",
    "            text.set_fontsize(20)\n",
    "    \n",
    "    label_sets = {\n",
    "        '10': ', '.join(set1 - set2),\n",
    "        '11': ', '.join(set1 & set2),\n",
    "        '01': ', '.join(set2 - set1)\n",
    "    }\n",
    "    \n",
    "    for key, val in label_sets.items():\n",
    "        if val:\n",
    "            venn.get_label_by_id(key).set_text(val)\n",
    "        elif venn.get_label_by_id(key):\n",
    "                venn.get_label_by_id(key).set_text(\"\")\n",
    "        else:\n",
    "            pass\n",
    "    plt.show()"
   ]
  },
  {
   "cell_type": "code",
   "execution_count": 34,
   "metadata": {},
   "outputs": [],
   "source": [
    "def plot3(set1, set2, set3, labels=(\"Set 1\", \"Set 2\", \"Set 3\")):\n",
    "    set1 = {str(e) for e in set1}\n",
    "    set2 = {str(e) for e in set2}\n",
    "    set3 = {str(e) for e in set3}\n",
    "    plt.figure(figsize=(10,10))\n",
    "    venn = venn3((set1, set2, set3), labels)\n",
    "    c = venn3_circles(subsets=(set1, set2, set3), linestyle='dashed')\n",
    "    \n",
    "    for text in venn.set_labels:\n",
    "        if text:\n",
    "            text.set_fontsize(24)\n",
    "        \n",
    "    for text in venn.subset_labels:\n",
    "        if text:\n",
    "            text.set_fontsize(20)\n",
    "    \n",
    "    label_sets = {\n",
    "        '100': ', '.join(set1 - set2 - set3),\n",
    "        '110': ', '.join(set1 & set2 - set3),\n",
    "        '010': ', '.join(set2 - set3 - set1),\n",
    "        '101': ', '.join(set1 & set3 - set2),\n",
    "        '111': ', '.join(set1 & set2 & set3),\n",
    "        '011': ', '.join(set2 & set3 - set1),\n",
    "        '001': ', '.join(set3 - set2 - set1)\n",
    "    }\n",
    "    \n",
    "    for key, val in label_sets.items():\n",
    "        if val:\n",
    "            venn.get_label_by_id(key).set_text(val)\n",
    "        elif venn.get_label_by_id(key):\n",
    "                venn.get_label_by_id(key).set_text(\"\")\n",
    "        else:\n",
    "            pass\n",
    "    plt.show()"
   ]
  },
  {
   "cell_type": "code",
   "execution_count": 41,
   "metadata": {},
   "outputs": [
    {
     "data": {
      "image/png": "[encoded data removed]",
      "text/plain": [
       "<Figure size 720x720 with 1 Axes>"
      ]
     },
     "metadata": {},
     "output_type": "display_data"
    }
   ],
   "source": [
    "plot2({1,2,3},{1,2,3,4,5})"
   ]
  },
  {
   "cell_type": "code",
   "execution_count": 33,
   "metadata": {},
   "outputs": [
    {
     "data": {
      "image/png": "[encoded data removed]",
      "text/plain": [
       "<Figure size 720x720 with 1 Axes>"
      ]
     },
     "metadata": {},
     "output_type": "display_data"
    }
   ],
   "source": [
    "plot3({1,2,3, 5},{1,3,4,5},{5, 6})"
   ]
  },
  {
   "cell_type": "code",
   "execution_count": null,
   "metadata": {},
   "outputs": [],
   "source": []
  }
 ],
 "metadata": {
  "kernelspec": {
   "display_name": "Python 3",
   "language": "python",
   "name": "python3"
  },
  "language_info": {
   "codemirror_mode": {
    "name": "ipython",
    "version": 3
   },
   "file_extension": ".py",
   "mimetype": "text/x-python",
   "name": "python",
   "nbconvert_exporter": "python",
   "pygments_lexer": "ipython3",
   "version": "3.7.6"
  }
 },
 "nbformat": 4,
 "nbformat_minor": 4
}
